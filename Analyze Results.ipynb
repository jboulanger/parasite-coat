{
 "cells": [
  {
   "cell_type": "markdown",
   "metadata": {},
   "source": [
    "# Analysis of the fluorescence recovery on parasite coats\n",
    "\n",
    "The script gets its input from a config yml configuration file:\n",
    "```yaml\n",
    "filelist: /path/to/filelist.csv\n",
    "summary: /path/to/results.csv\n",
    "```\n",
    "with filelist a csv file with columns \n",
    "\n",
    "|Filename| Start time [min]| First frame|\n",
    "|--------|-----------------|------------|\n",
    "\n",
    "where Filename column pointing to a TIF image file with a matching -profile.csv file with the columns \n",
    "\n",
    "|Frame|Time [min]|Mean Intensity|\n",
    "|-----|----------|--------------|\n",
    "\n",
    "Finally, summary is the path to a csv file with the result of the analysis by the imagej macro."
   ]
  },
  {
   "cell_type": "code",
   "execution_count": null,
   "metadata": {},
   "outputs": [],
   "source": [
    "config_file = 'data/config.yml'"
   ]
  },
  {
   "cell_type": "markdown",
   "metadata": {},
   "source": [
    "## Load dataset\n",
    "Open the config.yaml file and load the intensity profile for each file listed in the filelist."
   ]
  },
  {
   "cell_type": "code",
   "execution_count": null,
   "metadata": {},
   "outputs": [],
   "source": [
    "from pathlib import Path\n",
    "import yaml\n",
    "import numpy as np\n",
    "import pandas as pd\n",
    "import matplotlib.pyplot as plt\n",
    "import seaborn as sns\n",
    "from functools import partial\n",
    "from scipy.optimize import curve_fit\n",
    "from scipy.special import erf, erfinv\n",
    "from scipy.signal import medfilt\n",
    "import time\n",
    "\n",
    "tag = time.strftime('%d%m%y', time.localtime())\n",
    "print(f'Saving results with tag {tag}')\n",
    "\n",
    "def madstd(x):\n",
    "    \"\"\"Maximum absolute deviation of the standard deviation\"\"\"\n",
    "    return 1.4826 * np.median(np.abs(x-np.median(x)))\n",
    "\n",
    "def f1(s):             \n",
    "    return madstd(s.to_frame())\n",
    "f1.__name__ = 'madstd'\n",
    "q25 = partial(pd.Series.quantile, q=0.25)\n",
    "q25.__name__ ='25%'\n",
    "q50 = partial(pd.Series.quantile, q=0.50)\n",
    "q50.__name__ ='50%'\n",
    "q75 = partial(pd.Series.quantile, q=0.75)\n",
    "q75.__name__ ='75%'\n",
    "def f2(s):             \n",
    "    return pd.Series.quantile(s,0.75) -  pd.Series.quantile(s,0.25)\n",
    "f2.__name__ ='25%-75%'\n",
    "\n",
    "def resample_intensities(p:pd.DataFrame, x:np.ndarray, metric:str):\n",
    "    y = np.interp(x, p['Time [min]'], p[metric])\n",
    "    y0, y1 = p[metric].min(), p[metric].max()    \n",
    "    z = (y - y0) / (y1 - y0)\n",
    "    return pd.DataFrame({'Parasite':[p['Parasite'].iloc[0] for k in x], \n",
    "                         'Time [min]':x, \n",
    "                         metric: y, \n",
    "                         f'Normalized {metric}':z})"
   ]
  },
  {
   "cell_type": "markdown",
   "metadata": {},
   "source": [
    "Load the summary.csv table"
   ]
  },
  {
   "cell_type": "code",
   "execution_count": null,
   "metadata": {},
   "outputs": [],
   "source": [
    "# Load the configuration file\n",
    "with open(config_file, 'r') as file:\n",
    "    config = yaml.safe_load(file)\n",
    "\n",
    "folder = Path(config['summary']).parent\n",
    "\n",
    "# Load the summary file\n",
    "summary = pd.read_csv(config['summary'])\n",
    "\n",
    "# Order the files\n",
    "summary.sort_values(by='Parasite', inplace=True, ignore_index=True)\n",
    "\n",
    "# Drop previous estimate of model parameters\n",
    "summary.drop(columns=['Time mid point [min]','Time constant [min]', '5%-95% recovery time [min]', 'Intensity amplitude [au]','Intensity offset [au]','Photo-bleaching [min]','R squared'], inplace=True)\n",
    "\n",
    "summary.head()"
   ]
  },
  {
   "cell_type": "markdown",
   "metadata": {},
   "source": [
    "Combine all profiles in one dataframe"
   ]
  },
  {
   "cell_type": "code",
   "execution_count": null,
   "metadata": {},
   "outputs": [],
   "source": [
    "\n",
    "# Load the filelist in a dataframe\n",
    "filelist = pd.read_csv(config['filelist'])\n",
    "\n",
    "# Decode the parasite index\n",
    "#filelist['Parasite'] = filelist['Filename'].transform(lambda x: int(x.split('_')[0].replace('Parasite','')))\n",
    "\n",
    "# Order the files\n",
    "filelist.sort_values(by='Parasite', inplace=True, ignore_index=True)\n",
    "\n",
    "# Define a loading function for the profile files\n",
    "def load_profile(folder, row):\n",
    "    path = folder / row['Filename'].replace('.tif','-profile.csv')\n",
    "    df = pd.read_csv(path)\n",
    "    df['Parasite'] = row['Parasite']\n",
    "    # Drop previous estimate of model\n",
    "    df.drop(columns=['Model'], inplace=True)\n",
    "    return df\n",
    "    \n",
    "# Load the individual intensity profiles from *-profile.csv files saved by the ImageJ macro\n",
    "profiles = pd.concat([load_profile(folder, row) for row in filelist.iloc], ignore_index=True)\n",
    "\n",
    "profiles.to_csv(folder/'all profiles.csv')\n",
    "\n",
    "profiles.head()\n"
   ]
  },
  {
   "cell_type": "code",
   "execution_count": null,
   "metadata": {},
   "outputs": [],
   "source": [
    "t = np.arange(20,120,0.25) # interpolation time points\n",
    "interpolated_int = profiles.groupby('Parasite').apply(partial(resample_intensities,x=t, metric='Mean intensity')).droplevel('Parasite')\n",
    "interpolated_vol = profiles.groupby('Parasite').apply(partial(resample_intensities,x=t, metric='Fraction')).droplevel('Parasite')"
   ]
  },
  {
   "cell_type": "markdown",
   "metadata": {},
   "source": [
    "## Erf function model\n",
    "Re-estimate the parameters from the mean intensity profiles."
   ]
  },
  {
   "cell_type": "code",
   "execution_count": null,
   "metadata": {},
   "outputs": [],
   "source": [
    "figure_folder = folder / f'figure_{tag}_erf'\n",
    "figure_folder.mkdir(parents=True, exist_ok=True)\n",
    "print(figure_folder)"
   ]
  },
  {
   "cell_type": "code",
   "execution_count": null,
   "metadata": {},
   "outputs": [],
   "source": [
    "def model_erf(x,a,b,c,d,e):    \n",
    "    \"\"\"Error function + exponention\"\"\"\n",
    "    return  a + b * erf((x-c) / d) * np.exp(-x / e)\n",
    "\n",
    "def initialize_erf_parameters(x,y,alpha=0.2):\n",
    "    ym = medfilt(y,3)\n",
    "    a, b = np.percentile(ym, 5), np.percentile(ym, 90)    \n",
    "    alpha = 0.2\n",
    "    y0, y1, y2 = a + alpha * (b - a), a + (1-alpha) * (b - a), 0.5*(a+b)\n",
    "    x0, x1, x2 = 0.0, 0.0, 0.0\n",
    "    corr = 2 * erfinv(1 - alpha)  \n",
    "    for i, yi in enumerate(ym):\n",
    "        if i > 0:  \n",
    "            if yi > y0 and x0 == 0 :\n",
    "                x0 = x[i-1] + (y0 - y[i-1]) * (x[i] - x[i-1]) / (yi - y[i-1])\n",
    "            if yi > y1 and x1 == 0 :\n",
    "                x1 = x[i-1] + (y1 - y[i-1]) * (x[i] - x[i-1]) / (yi - y[i-1])\n",
    "            if yi > y2 and x2 == 0 :\n",
    "                x2 = x[i-1] + (y2 - y[i-1]) * (x[i] - x[i-1]) / (yi - y[i-1])\n",
    "    x2=(x0+x1)/2\n",
    "    p = [0.5*(a+b), 0.5*(b - a), x2  , (x1-x0)/corr, 50]\n",
    "    l = [0.3*(a+b), 0.3*(b - a), x2-1, 0, 10]\n",
    "    u = [0.6*(a+b), 0.7*(b - a), x2+1, 1e3, 1e9]    \n",
    "    return {'p0':p, 'bounds':(l,u)}\n",
    "\n",
    "def fit_erf_model(name, group, metric):\n",
    "    \"\"\"Least square fit of the model parameters\"\"\"    \n",
    "    x, y = group['Time [min]'], group[metric]\n",
    "    x = np.array(x[np.isfinite(y)])\n",
    "    y = np.array(y[np.isfinite(y)])    \n",
    "    init = initialize_erf_parameters(x,y)        \n",
    "    p, cov = curve_fit(model_erf, x, y, **init)        \n",
    "    return {\n",
    "        'Parasite': name,\n",
    "        'Offset [au]': p[0],\n",
    "        'Amplitude [au]': p[1],\n",
    "        'Time mid point [min]': p[2],\n",
    "        'Time constant [min]': p[3],\n",
    "        'Exponential decay [min]': p[4],        \n",
    "        '5%-95% recovery time [min]': 2 * erfinv(0.9) * p[3],\n",
    "        'R2': 1 - np.square(model_erf(x,*p)-y).sum() / np.square(y-y.mean()).sum()\n",
    "    }\n",
    "\n",
    "parameters_erf = pd.DataFrame.from_records([fit_erf_model(n,g,'Mean intensity') for n, g in profiles.groupby('Parasite')])\n",
    "sns.histplot(parameters_erf, x='5%-95% recovery time [min]')\n",
    "plt.title('Distribution of 5%-95% recovery time');\n",
    "plt.xlim(0,parameters_erf['5%-95% recovery time [min]'].max()+1)\n",
    "plt.savefig(figure_folder/'histogram of recovery times.pdf')"
   ]
  },
  {
   "cell_type": "markdown",
   "metadata": {},
   "source": [
    "Customized statistics"
   ]
  },
  {
   "cell_type": "code",
   "execution_count": null,
   "metadata": {},
   "outputs": [],
   "source": [
    "parameters_erf.agg([\"count\",\"mean\", \"std\", \"min\",q25, q50, q75, \"max\",  f1, f2])\n"
   ]
  },
  {
   "cell_type": "code",
   "execution_count": null,
   "metadata": {},
   "outputs": [],
   "source": [
    "col = '5%-95% recovery time [min]'\n",
    "outlier_threshold =  parameters_erf[col].median() + 3 * madstd(parameters_erf[col])\n",
    "print(f'Outliers are > {outlier_threshold} ')\n",
    "idx = parameters_erf[col] > outlier_threshold\n",
    "parameters_erf.loc[idx]"
   ]
  },
  {
   "cell_type": "markdown",
   "metadata": {},
   "source": [
    " Heatmaps"
   ]
  },
  {
   "cell_type": "code",
   "execution_count": null,
   "metadata": {},
   "outputs": [],
   "source": [
    "\n",
    "def generate_erf_models(p:pd.DataFrame, x:np.ndarray):\n",
    "    \"\"\"Generate models profiles from parameters and time values\"\"\"\n",
    "    yhat = model_erf(x, p[1],p[2],p[3],p[4],p[5])\n",
    "    return pd.DataFrame({\n",
    "        'Parasite': [p['Parasite'] for x in range(len(x))],\n",
    "        'Time [min]' : x,\n",
    "        'Model [au]': yhat,\n",
    "        'Normalized model [au]': model_erf(x, 0.5, 0.5, p[3], p[4], 1e6),        \n",
    "    })\n",
    "\n",
    "\n",
    "models_erf = pd.concat([generate_erf_models(p,t) for p in parameters_erf.iloc])\n",
    "\n",
    "order = np.argsort(parameters_erf['Time mid point [min]']).to_numpy() + 1\n",
    "\n",
    "fig, ax = plt.subplots(1,2,figsize=(16,8))\n",
    "\n",
    "sns.heatmap(\n",
    "    interpolated_int.pivot_table('Normalized Mean intensity', 'Time [min]', 'Parasite').transpose().reindex(order),\n",
    "    xticklabels = 100,\n",
    "    linewidths = 0.0,     \n",
    "    rasterized = True,\n",
    "    vmin=0,\n",
    "    vmax=1,\n",
    "    ax=ax[0])\n",
    "plt.xlim([20,125])\n",
    "ax[0].set_title('Interpolated intensity')\n",
    "\n",
    "sns.heatmap(\n",
    "    models_erf.pivot_table('Normalized model [au]', 'Time [min]', 'Parasite').transpose().reindex(order),\n",
    "    xticklabels = 100,\n",
    "    linewidths = 0.0, \n",
    "    rasterized = True,\n",
    "    #vmin=0,\n",
    "    #vmax=1,\n",
    "    ax=ax[1])\n",
    "ax[1].set_title('Model')\n",
    "plt.savefig(figure_folder/'heatmap.pdf')\n",
    "plt.show()\n"
   ]
  },
  {
   "cell_type": "code",
   "execution_count": null,
   "metadata": {},
   "outputs": [],
   "source": [
    "def plot_erf(profile, parameter, ax):    \n",
    "    ax.plot(profile['Time [min]'], profile['Mean intensity'], '.')\n",
    "    x = np.arange(profile['Time [min]'].min(), profile['Time [min]'].max(), 0.25)    \n",
    "    y0, y1 = 0.975*profile['Mean intensity'].min(), 1.025*profile['Mean intensity'].max()\n",
    "    p = parameter.iloc[0]\n",
    "    yhat = model_erf(x, *p[1:6])\n",
    "    ax.plot(x,yhat)\n",
    "    t2 = p.iloc[3]\n",
    "    dt = p.iloc[6]/2    \n",
    "    ax.plot([t2,t2],[y0,y1],color='red')\n",
    "    ax.plot([t2+dt,t2+dt],[y0,y1],color='gray')\n",
    "    ax.plot([t2-dt,t2-dt],[y0,y1],color='gray')\n",
    "    pid = parameter[\"Parasite\"].item()\n",
    "    ax.set_title(f'Parasite {pid}\\n 5%-95% recovery {2*dt:.2f} min')\n",
    "    ax.set_xlim([t2-12, t2+12])\n",
    "    ax.set_ylim(y0,y1)\n",
    "    ax.set_xlabel('Time [min]')\n",
    "    ax.set_ylabel('Mean intensity around\\nGondi vacuole [au]')\n",
    "    \n",
    "fig,ax = plt.subplots(1,2,figsize=(10,4))\n",
    "for p in parameters_erf['Parasite']:\n",
    "    plot_erf(profiles[profiles['Parasite']==p], parameters_erf[parameters_erf['Parasite']==p],ax=ax.ravel()[p-1])\n",
    "fig.tight_layout()\n",
    "plt.savefig(figure_folder/f'intensity for all parasites.pdf',  bbox_inches='tight')\n"
   ]
  },
  {
   "cell_type": "markdown",
   "metadata": {},
   "source": [
    "Save all profiles as individual graph"
   ]
  },
  {
   "cell_type": "code",
   "execution_count": null,
   "metadata": {},
   "outputs": [],
   "source": [
    "for p in [1,2]:\n",
    "    plt.clf()\n",
    "    plot_erf(profiles.loc[profiles['Parasite']==p], parameters_erf.loc[parameters_erf['Parasite']==p],ax=plt.gca())            \n",
    "    plt.savefig(figure_folder/f'intensity parasite {p}.pdf',  bbox_inches='tight')"
   ]
  },
  {
   "cell_type": "markdown",
   "metadata": {},
   "source": [
    "Export all data into an MS Excel spreadsheet."
   ]
  },
  {
   "cell_type": "code",
   "execution_count": null,
   "metadata": {},
   "outputs": [],
   "source": [
    "with pd.ExcelWriter(figure_folder/'Parasite coat recovery data.xlsx') as xls:\n",
    "    summary.to_excel(xls,sheet_name='Info',index=False)\n",
    "    parameters_erf.to_excel(xls,sheet_name='Model parameters',index=False)\n",
    "    parameters_erf.agg([\"count\",\"mean\", \"std\", \"min\",q25, q50, q75, \"max\",  f1, f2]).to_excel(xls,sheet_name='Statistics')\n",
    "    for n,g in profiles.groupby('Parasite'):\n",
    "        g.reset_index().drop(columns=['index','Parasite']).to_excel(xls,sheet_name=f'Parasite {n}',index=False)"
   ]
  }
 ],
 "metadata": {
  "kernelspec": {
   "display_name": "usagestats",
   "language": "python",
   "name": "python3"
  },
  "language_info": {
   "codemirror_mode": {
    "name": "ipython",
    "version": 3
   },
   "file_extension": ".py",
   "mimetype": "text/x-python",
   "name": "python",
   "nbconvert_exporter": "python",
   "pygments_lexer": "ipython3",
   "version": "3.12.1"
  }
 },
 "nbformat": 4,
 "nbformat_minor": 2
}
